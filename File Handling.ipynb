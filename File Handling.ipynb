{
 "cells": [
  {
   "cell_type": "code",
   "execution_count": 3,
   "id": "a54305d9-36b9-4c3c-aa77-5f9b923cfc1a",
   "metadata": {},
   "outputs": [],
   "source": [
    "#Write a code to read the contents of a file in Python\n",
    "\n",
    "# Open the file in read mode\n",
    "with open('filename.txt', 'r') as file:\n",
    "    # Read the contents of the file\n",
    "    contents = file.read()\n",
    "\n",
    "# Print the contents of the file\n",
    "print(contents)\n"
   ]
  },
  {
   "cell_type": "code",
   "execution_count": 5,
   "id": "aa6b7709-16ff-4a56-935a-1b60eb3385b3",
   "metadata": {},
   "outputs": [],
   "source": [
    "#Write a code to write to a file in Python\n",
    "\n",
    "# Open the file in write mode\n",
    "with open('filename.txt', 'w') as file:\n",
    "    # Write content to the file\n",
    "    file.write('Hello, World!')\n",
    "\n",
    "# No need to explicitly close the file, as the 'with' statement handles it.\n"
   ]
  },
  {
   "cell_type": "code",
   "execution_count": 6,
   "id": "d0fafefc-699b-41a4-a989-2018665d3d21",
   "metadata": {},
   "outputs": [],
   "source": [
    "#Write a code to append to a file in Python\n",
    "# Open the file in append mode\n",
    "with open('filename.txt', 'a') as file:\n",
    "    # Append content to the file\n",
    "    file.write('This is an appended line.\\n')\n",
    "\n",
    "# No need to explicitly close the file, as the 'with' statement handles it.\n"
   ]
  },
  {
   "cell_type": "code",
   "execution_count": 7,
   "id": "ab29f572-6cc0-4244-9172-3f7cb6d3860f",
   "metadata": {},
   "outputs": [],
   "source": [
    "# Write a code to read a binary file in Python\n",
    "# Open the file in binary read mode\n",
    "with open('filename.bin', 'rb') as file:\n",
    "    # Read the contents of the file\n",
    "    contents = file.read()\n",
    "\n",
    "# Print the contents of the file (as bytes)\n",
    "print(contents)\n"
   ]
  },
  {
   "cell_type": "code",
   "execution_count": 8,
   "id": "f891e994-0d57-40e7-bcc3-27a9ec6220fe",
   "metadata": {},
   "outputs": [
    {
     "name": "stdout",
     "output_type": "stream",
     "text": [
      "Hello, World!This is an appended line.\n",
      "\n"
     ]
    }
   ],
   "source": [
    "#What happens if we don't use `with` keyword with `open` in python\n",
    "# Open the file using 'with'\n",
    "with open('filename.txt', 'r') as file:\n",
    "    # Read the contents of the file\n",
    "    contents = file.read()\n",
    "    print(contents)\n"
   ]
  },
  {
   "cell_type": "code",
   "execution_count": null,
   "id": "53b530e3-018b-438d-bd3b-949eef69b991",
   "metadata": {},
   "outputs": [],
   "source": [
    "#Explain the concept of buffering in file handling and how it helps in improving read and write operations\n",
    "# Open the file with default buffering\n",
    "with open('filename.txt', 'r') as file:\n",
    "    contents = file.read()\n",
    "    print(contents)\n",
    "\n",
    "    \n",
    "# Open the file with default buffering\n",
    "with open('filename.txt', 'w') as file:\n",
    "    file.write('Hello, World!')\n"
   ]
  },
  {
   "cell_type": "code",
   "execution_count": null,
   "id": "409cdffe-b7b3-4643-801e-2d0c765170d0",
   "metadata": {},
   "outputs": [],
   "source": [
    "#Describe the steps involved in implementing buffered file handling in a programming language of your \n",
    "#choice\n",
    "#1\n",
    "# Default buffering\n",
    "file = open('example.txt', 'r')\n",
    "\n",
    "# Custom buffer size (e.g., 4096 bytes)\n",
    "file = open('example.txt', 'r', buffering=4096)\n",
    "\n",
    "#2\n",
    "# Read\n",
    "contents = file.read()\n",
    "\n",
    "# Write\n",
    "file.write('Hello, World!')\n",
    "\n",
    "#3\n",
    "file.close()\n",
    "\n",
    "#4\n",
    "with open('example.txt', 'r', buffering=4096) as file:\n",
    "    contents = file.read()\n",
    "# Automatic file closure\n"
   ]
  },
  {
   "cell_type": "code",
   "execution_count": null,
   "id": "359e5da8-5708-45d5-8199-1ea668f6b1b3",
   "metadata": {},
   "outputs": [],
   "source": [
    "# Write a Python function to read a text file using buffered reading and return its contents\n",
    "def read_file_with_buffering(filename, buffer_size=4096):\n",
    "    # Open the file with the specified buffer size\n",
    "    with open(filename, 'r', buffering=buffer_size) as file:\n",
    "        # Read the contents of the file\n",
    "        contents = file.read()\n",
    "    # Return the contents of the file\n",
    "    return contents\n",
    "\n",
    "# Example usage\n",
    "filename = 'example.txt'\n",
    "contents = read_file_with_buffering(filename)\n",
    "print(contents)\n"
   ]
  },
  {
   "cell_type": "code",
   "execution_count": null,
   "id": "bc535ff6-e623-4cb5-84b1-cb78a59c9564",
   "metadata": {},
   "outputs": [],
   "source": [
    "# What are the advantages of using buffered reading over direct file reading in Python\n",
    "\n",
    "\n",
    "#Buffered reading in Python offers faster performance, reduced disk I/O, \n",
    "#optimized system resources, customizable buffer size, enhanced flexibility, \n",
    "#and smoother data transfer compared to direct file reading."
   ]
  },
  {
   "cell_type": "code",
   "execution_count": null,
   "id": "570c1675-1b0c-44d5-9b77-a6659b7af148",
   "metadata": {},
   "outputs": [],
   "source": [
    "# Write a Python code snippet to append content to a file using buffered writing\n",
    "def append_to_file_with_buffering(filename, content):\n",
    "    # Open the file in append mode with buffered writing\n",
    "    with open(filename, 'a', buffering=4096) as file:\n",
    "        # Write content to the file\n",
    "        file.write(content)\n",
    "\n",
    "# Example usage:\n",
    "filename = 'example.txt'\n",
    "content_to_append = 'This is the new content to append.'\n",
    "append_to_file_with_buffering(filename, content_to_append)\n"
   ]
  },
  {
   "cell_type": "code",
   "execution_count": null,
   "id": "f8002fb8-e65a-4925-8fd6-00372d5fb042",
   "metadata": {},
   "outputs": [],
   "source": [
    "#Write a Python function that demonstrates the use of close() method on a file\n",
    "def write_to_file_and_close(filename, content):\n",
    "    # Open the file in write mode\n",
    "    file = open(filename, 'w')\n",
    "\n",
    "    try:\n",
    "        # Write content to the file\n",
    "        file.write(content)\n",
    "    finally:\n",
    "        # Close the file\n",
    "        file.close()\n",
    "\n",
    "# Example usage:\n",
    "filename = 'example.txt'\n",
    "content_to_write = 'This is some content written to the file.'\n",
    "write_to_file_and_close(filename, content_to_write)\n"
   ]
  },
  {
   "cell_type": "code",
   "execution_count": null,
   "id": "6bcb64a6-a40f-4813-aabd-1b72ac5e5b7a",
   "metadata": {},
   "outputs": [],
   "source": [
    "# Create a Python function to showcase the detach() method on a file object\n",
    "def detach_file_object(filename):\n",
    "    # Open the file in read mode\n",
    "    file = open(filename, 'rb')\n",
    "\n",
    "    try:\n",
    "        # Detach the buffer from the file object\n",
    "        buffer = file.detach()\n",
    "        \n",
    "        # Check if the buffer is detached\n",
    "        if buffer is None:\n",
    "            print(\"Buffer detached successfully.\")\n",
    "        else:\n",
    "            print(\"Buffer is still attached.\")\n",
    "    finally:\n",
    "        # Close the file\n",
    "        file.close()\n",
    "\n",
    "# Example usage:\n",
    "filename = 'example.txt'\n",
    "detach_file_object(filename)\n"
   ]
  },
  {
   "cell_type": "code",
   "execution_count": null,
   "id": "a4da475e-4afa-49a6-a005-f7ae73e82327",
   "metadata": {},
   "outputs": [],
   "source": [
    "# Write a Python function to demonstrate the use of the seek() method to change the file position\n",
    "def change_file_position(filename, offset):\n",
    "    # Open the file in read mode\n",
    "    with open(filename, 'r') as file:\n",
    "        # Read the content before seek\n",
    "        print(\"Content before seek:\")\n",
    "        print(file.read())\n",
    "\n",
    "        # Move the file pointer to the specified offset\n",
    "        file.seek(offset)\n",
    "\n",
    "        # Read the content after seek\n",
    "        print(\"\\nContent after seek:\")\n",
    "        print(file.read())\n",
    "\n",
    "# Example usage:\n",
    "filename = 'example.txt'\n",
    "offset = 10\n",
    "change_file_position(filename, offset)\n"
   ]
  },
  {
   "cell_type": "code",
   "execution_count": null,
   "id": "fc86b61c-9bd4-4d07-93fb-d983922f0e1e",
   "metadata": {},
   "outputs": [],
   "source": [
    "#Create a Python function to return the file descriptor (integer number) of a file using the fileno() method\n",
    "def get_file_descriptor(filename):\n",
    "    # Open the file in read mode\n",
    "    with open(filename, 'r') as file:\n",
    "        # Get the file descriptor\n",
    "        file_descriptor = file.fileno()\n",
    "        return file_descriptor\n",
    "\n",
    "# Example usage:\n",
    "filename = 'example.txt'\n",
    "descriptor = get_file_descriptor(filename)\n",
    "print(\"File Descriptor:\", descriptor)\n"
   ]
  },
  {
   "cell_type": "code",
   "execution_count": null,
   "id": "1e79152d-ca43-47e0-b514-30174328ee1b",
   "metadata": {},
   "outputs": [],
   "source": [
    "# Write a Python function to return the current position of the file's object using the tell() method\n",
    "def get_current_file_position(filename):\n",
    "    # Open the file in read mode\n",
    "    with open(filename, 'r') as file:\n",
    "        # Get the current file position\n",
    "        current_position = file.tell()\n",
    "        return current_position\n",
    "\n",
    "# Example usage:\n",
    "filename = 'example.txt'\n",
    "position = get_current_file_position(filename)\n",
    "print(\"Current Position:\", position)\n"
   ]
  },
  {
   "cell_type": "code",
   "execution_count": 9,
   "id": "c8750dee-a695-4955-9b47-da8fa94cd8c2",
   "metadata": {},
   "outputs": [
    {
     "name": "stdout",
     "output_type": "stream",
     "text": [
      "Message logged to application.log\n"
     ]
    }
   ],
   "source": [
    "# Create a Python program that logs a message to a file using the logging module\n",
    "import logging\n",
    "\n",
    "def setup_logging(log_file):\n",
    "    # Configure the logging settings\n",
    "    logging.basicConfig(\n",
    "        filename=log_file,\n",
    "        level=logging.INFO,  # Set the logging level\n",
    "        format='%(asctime)s - %(levelname)s - %(message)s',  # Set the log message format\n",
    "    )\n",
    "\n",
    "def log_message(message):\n",
    "    # Log the provided message\n",
    "    logging.info(message)\n",
    "\n",
    "# Example usage:\n",
    "log_file = 'application.log'\n",
    "setup_logging(log_file)\n",
    "log_message('This is an info message logged to the file.')\n",
    "\n",
    "print(f\"Message logged to {log_file}\")\n"
   ]
  },
  {
   "cell_type": "code",
   "execution_count": null,
   "id": "3c5bcb89-df80-43af-ae8f-ebdd8cd0955a",
   "metadata": {},
   "outputs": [],
   "source": [
    "#Explain the importance of logging levels in Python's logging module\n",
    "import logging\n",
    "\n",
    "# Configure logging\n",
    "logging.basicConfig(level=logging.DEBUG, format='%(levelname)s:%(message)s')\n",
    "\n",
    "# Log messages with different severity levels\n",
    "logging.debug('This is a debug message')\n",
    "logging.info('This is an info message')\n",
    "logging.warning('This is a warning message')\n",
    "logging.error('This is an error message')\n",
    "logging.critical('This is a critical message')\n"
   ]
  },
  {
   "cell_type": "code",
   "execution_count": null,
   "id": "2f6e6785-c019-4176-993a-02cbcb6c512f",
   "metadata": {},
   "outputs": [],
   "source": [
    "#Create a Python program that uses the debugger to find the value of a variable inside a loop\n",
    "import pdb\n",
    "\n",
    "def find_sum_of_squares(n):\n",
    "    total = 0\n",
    "    for i in range(1, n + 1):\n",
    "        square = i * i\n",
    "        pdb.set_trace()  # Set a breakpoint here\n",
    "        total += square\n",
    "    return total\n",
    "\n",
    "# Example usage:\n",
    "n = 5\n",
    "result = find_sum_of_squares(n)\n",
    "print(f\"The sum of squares from 1 to {n} is {result}\")\n"
   ]
  },
  {
   "cell_type": "code",
   "execution_count": null,
   "id": "1d95469e-01d3-4b9a-a461-93a65c5ec466",
   "metadata": {},
   "outputs": [],
   "source": [
    "# Create a Python program that demonstrates setting breakpoints and inspecting variables using the \n",
    "#debugger\n",
    "import pdb\n",
    "\n",
    "def compute_factorial(n):\n",
    "    factorial = 1\n",
    "    for i in range(1, n + 1):\n",
    "        factorial *= i\n",
    "        pdb.set_trace()  # Set a breakpoint here to inspect variables\n",
    "    return factorial\n",
    "\n",
    "# Example usage:\n",
    "n = 5\n",
    "result = compute_factorial(n)\n",
    "print(f\"The factorial of {n} is {result}\")\n"
   ]
  },
  {
   "cell_type": "code",
   "execution_count": null,
   "id": "de189124-34eb-4e92-b052-18c1fb3ee2fd",
   "metadata": {},
   "outputs": [],
   "source": [
    "#Create a Python program that uses the debugger to trace a recursive function\n",
    "import pdb\n",
    "\n",
    "def factorial(n):\n",
    "    pdb.set_trace()  # Set a breakpoint at the beginning of the function\n",
    "    if n == 0 or n == 1:\n",
    "        return 1\n",
    "    else:\n",
    "        return n * factorial(n - 1)\n",
    "\n",
    "# Example usage:\n",
    "n = 5\n",
    "result = factorial(n)\n",
    "print(f\"The factorial of {n} is {result}\")\n"
   ]
  },
  {
   "cell_type": "code",
   "execution_count": 10,
   "id": "cfcc8051-b6f2-4f07-933c-60eb6b51128c",
   "metadata": {},
   "outputs": [
    {
     "name": "stdout",
     "output_type": "stream",
     "text": [
      "The result of 10 divided by 2 is 5.0\n",
      "Error: Division by zero is not allowed.\n"
     ]
    }
   ],
   "source": [
    "#Write a try-except block to handle a ZeroDivisionError\n",
    "def divide_numbers(a, b):\n",
    "    try:\n",
    "        # Attempt to perform division\n",
    "        result = a / b\n",
    "        print(f\"The result of {a} divided by {b} is {result}\")\n",
    "    except ZeroDivisionError:\n",
    "        # Handle the case where division by zero is attempted\n",
    "        print(\"Error: Division by zero is not allowed.\")\n",
    "\n",
    "# Example usage:\n",
    "divide_numbers(10, 2)  # This will print the result of the division\n",
    "divide_numbers(10, 0)  # This will print the error message\n"
   ]
  },
  {
   "cell_type": "code",
   "execution_count": 11,
   "id": "44fb77a2-6461-40e2-b6a6-611b843ec408",
   "metadata": {},
   "outputs": [
    {
     "name": "stdout",
     "output_type": "stream",
     "text": [
      "The result of 10 divided by 2 is 5.0\n",
      "Error: Division by zero is not allowed.\n"
     ]
    }
   ],
   "source": [
    "# How does the else block work with try-except\n",
    "def divide_numbers(a, b):\n",
    "    try:\n",
    "        # Attempt to perform division\n",
    "        result = a / b\n",
    "    except ZeroDivisionError:\n",
    "        # Handle the case where division by zero is attempted\n",
    "        print(\"Error: Division by zero is not allowed.\")\n",
    "    else:\n",
    "        # This block runs only if no exception was raised in the try block\n",
    "        print(f\"The result of {a} divided by {b} is {result}\")\n",
    "\n",
    "# Example usage:\n",
    "divide_numbers(10, 2)  # This will print the result of the division\n",
    "divide_numbers(10, 0)  # This will print the error message\n"
   ]
  },
  {
   "cell_type": "code",
   "execution_count": 13,
   "id": "7c88a113-5424-47c8-a0b1-57be6ba0deaa",
   "metadata": {},
   "outputs": [
    {
     "name": "stdout",
     "output_type": "stream",
     "text": [
      "Error: The file 'example.txt' was not found.\n"
     ]
    }
   ],
   "source": [
    "# Implement a try-except-else block to open and read a file\n",
    "def read_file(filename):\n",
    "    try:\n",
    "        # Attempt to open the file\n",
    "        file = open(filename, 'r')\n",
    "    except FileNotFoundError:\n",
    "        # Handle the case where the file is not found\n",
    "        print(f\"Error: The file '{filename}' was not found.\")\n",
    "    else:\n",
    "        # This block runs only if no exception was raised in the try block\n",
    "        with file:\n",
    "            content = file.read()\n",
    "            print(\"File content successfully read.\")\n",
    "            return content\n",
    "\n",
    "# Example usage:\n",
    "filename = 'example.txt'\n",
    "file_content = read_file(filename)\n",
    "if file_content is not None:\n",
    "    print(\"File Content:\")\n",
    "    print(file_content)\n"
   ]
  },
  {
   "cell_type": "code",
   "execution_count": null,
   "id": "58d63fe0-83b9-4a0e-a1ad-433b4a950319",
   "metadata": {},
   "outputs": [],
   "source": [
    "# What is the purpose of the finally block in exception handling\n",
    "def read_file(filename):\n",
    "    try:\n",
    "        # Attempt to open the file\n",
    "        file = open(filename, 'r')\n",
    "        # Read the file content\n",
    "        content = file.read()\n",
    "        print(\"File content successfully read.\")\n",
    "        return content\n",
    "    except FileNotFoundError:\n",
    "        # Handle the case where the file is not found\n",
    "        print(f\"Error: The file '{filename}' was not found.\")\n",
    "    except Exception as e:\n",
    "        # Handle other potential exceptions\n",
    "        print(f\"An error occurred: {e}\")\n",
    "    finally:\n",
    "        # This block will always execute, even if an exception is raised\n",
    "        try:\n",
    "            file.close()\n",
    "            print(\"File closed.\")\n",
    "        except NameError:\n",
    "            # Handle the case where 'file' is not defined (e.g., if the open call failed)\n",
    "            print(\"File was never opened, so it cannot be closed.\")\n",
    "\n",
    "# Example usage:\n",
    "filename = 'example.txt'\n",
    "file_content = read_file(filename)\n",
    "if file_content is not None:\n",
    "    print(\"File Content:\")\n",
    "    print(file_content)\n"
   ]
  },
  {
   "cell_type": "code",
   "execution_count": 14,
   "id": "0871aba8-e49d-49e3-a75f-bd965dbcf95e",
   "metadata": {},
   "outputs": [
    {
     "name": "stdout",
     "output_type": "stream",
     "text": [
      "The integer value is 123\n",
      "Execution of the try-except-finally block is complete.\n",
      "Error: The provided string could not be converted to an integer.\n",
      "Execution of the try-except-finally block is complete.\n"
     ]
    }
   ],
   "source": [
    "#Write a try-except-finally block to handle a ValueError.\n",
    "def convert_to_int(s):\n",
    "    try:\n",
    "        # Attempt to convert the string to an integer\n",
    "        result = int(s)\n",
    "        print(f\"The integer value is {result}\")\n",
    "    except ValueError:\n",
    "        # Handle the case where the string cannot be converted to an integer\n",
    "        print(\"Error: The provided string could not be converted to an integer.\")\n",
    "    finally:\n",
    "        # This block will always execute\n",
    "        print(\"Execution of the try-except-finally block is complete.\")\n",
    "\n",
    "# Example usage:\n",
    "convert_to_int(\"123\")  # This will print the integer value\n",
    "convert_to_int(\"abc\")  # This will print the error message\n"
   ]
  },
  {
   "cell_type": "code",
   "execution_count": 16,
   "id": "a1b1637f-eef4-4c0e-8a1a-e8f37654b9da",
   "metadata": {},
   "outputs": [
    {
     "name": "stdout",
     "output_type": "stream",
     "text": [
      "The result of 10 divided by 2 is 5.0\n",
      "Error: Division by zero is not allowed.\n",
      "Error: Operands must be numeric.\n",
      "Error: Operands must be numeric.\n"
     ]
    }
   ],
   "source": [
    "#How multiple except blocks work in Python\n",
    "def divide_numbers(a, b):\n",
    "    try:\n",
    "        # Attempt to perform division\n",
    "        result = a / b\n",
    "        print(f\"The result of {a} divided by {b} is {result}\")\n",
    "    except ZeroDivisionError:\n",
    "        # Handle the case where division by zero is attempted\n",
    "        print(\"Error: Division by zero is not allowed.\")\n",
    "    except TypeError:\n",
    "        # Handle the case where the operands are of incompatible types\n",
    "        print(\"Error: Operands must be numeric.\")\n",
    "    except Exception as e:\n",
    "        # Handle other potential exceptions\n",
    "        print(f\"An error occurred: {e}\")\n",
    "\n",
    "# Example usage:\n",
    "divide_numbers(10, 2)     # This will print the result of the division\n",
    "divide_numbers(10, 0)     # This will print the error message for division by zero\n",
    "divide_numbers(10, '2')   # This will print the error message for incompatible types\n",
    "divide_numbers(10, [])    # This will print the generic error message\n"
   ]
  },
  {
   "cell_type": "code",
   "execution_count": 17,
   "id": "eddc240c-74e2-423d-8fce-07654625bfd9",
   "metadata": {},
   "outputs": [
    {
     "name": "stdout",
     "output_type": "stream",
     "text": [
      "Caught CustomError: This is a custom error message\n"
     ]
    }
   ],
   "source": [
    "#What is a custom exception in Python\n",
    "class CustomError(Exception):\n",
    "    def __init__(self, message=\"Custom error occurred\"):\n",
    "        self.message = message\n",
    "        super().__init__(self.message)\n",
    "\n",
    "# Example usage:\n",
    "try:\n",
    "    raise CustomError(\"This is a custom error message\")\n",
    "except CustomError as e:\n",
    "    print(\"Caught CustomError:\", e)\n"
   ]
  },
  {
   "cell_type": "code",
   "execution_count": 18,
   "id": "e603cbea-4b36-434c-a992-b827240981a5",
   "metadata": {},
   "outputs": [
    {
     "name": "stdout",
     "output_type": "stream",
     "text": [
      "Caught CustomError: This is a custom error message\n"
     ]
    }
   ],
   "source": [
    "# Create a custom exception class with a message\n",
    "class CustomError(Exception):\n",
    "    def __init__(self, message=\"A custom error occurred\"):\n",
    "        self.message = message\n",
    "        super().__init__(self.message)\n",
    "\n",
    "# Example usage:\n",
    "try:\n",
    "    raise CustomError(\"This is a custom error message\")\n",
    "except CustomError as e:\n",
    "    print(\"Caught CustomError:\", e.message)\n"
   ]
  },
  {
   "cell_type": "code",
   "execution_count": 19,
   "id": "1500a895-13e1-46f9-8c28-e982770ec038",
   "metadata": {},
   "outputs": [
    {
     "name": "stdout",
     "output_type": "stream",
     "text": [
      "Caught CustomError: No data provided\n"
     ]
    }
   ],
   "source": [
    "#Write a code to raise a custom exception in Python\n",
    "class CustomError(Exception):\n",
    "    def __init__(self, message=\"A custom error occurred\"):\n",
    "        self.message = message\n",
    "        super().__init__(self.message)\n",
    "\n",
    "def process_data(data):\n",
    "    if not data:\n",
    "        raise CustomError(\"No data provided\")\n",
    "\n",
    "# Example usage:\n",
    "try:\n",
    "    data = None  # Simulating a scenario where data is not provided\n",
    "    process_data(data)\n",
    "except CustomError as e:\n",
    "    print(\"Caught CustomError:\", e.message)\n"
   ]
  },
  {
   "cell_type": "code",
   "execution_count": 20,
   "id": "51ed1744-89f5-444a-9830-2a9485a0c688",
   "metadata": {},
   "outputs": [
    {
     "name": "stdout",
     "output_type": "stream",
     "text": [
      "Processing value: 10\n",
      "Caught NegativeValueError: Negative value encountered\n"
     ]
    }
   ],
   "source": [
    "#Write a function that raises a custom exception when a value is negative\n",
    "class NegativeValueError(Exception):\n",
    "    pass\n",
    "\n",
    "def process_value(value):\n",
    "    if value < 0:\n",
    "        raise NegativeValueError(\"Negative value encountered\")\n",
    "    # Process the value if it's non-negative\n",
    "    print(f\"Processing value: {value}\")\n",
    "\n",
    "# Example usage:\n",
    "try:\n",
    "    process_value(10)   # This will print \"Processing value: 10\"\n",
    "    process_value(-5)   # This will raise a NegativeValueError\n",
    "except NegativeValueError as e:\n",
    "    print(\"Caught NegativeValueError:\", e)\n"
   ]
  },
  {
   "cell_type": "code",
   "execution_count": null,
   "id": "4aab1cc2-1c38-4a7d-8197-379bf1dc6e2e",
   "metadata": {},
   "outputs": [],
   "source": [
    "# What is the role of try, except, else, and finally in handling exceptions\n",
    "\n",
    "\n",
    "\n",
    "#try block: Contains code that may raise an exception.\n",
    "\n",
    "#except block: Handles specific exceptions raised in the try block.\n",
    "\n",
    "#else block: Contains code that runs only if no exceptions occur in the try block.\n",
    "\n",
    "#finally block: Contains cleanup code that always executes, regardless of exceptions.\n",
    "try:\n",
    "    result = 10 / 2\n",
    "except ZeroDivisionError:\n",
    "    print(\"Error: Division by zero\")\n",
    "else:\n",
    "    print(\"Result:\", result)\n",
    "finally:\n",
    "    print(\"Cleanup: Closing resources\")\n"
   ]
  },
  {
   "cell_type": "code",
   "execution_count": null,
   "id": "5edc18e2-5de6-4fd8-bd1b-1584588bf7ac",
   "metadata": {},
   "outputs": [],
   "source": [
    "#How can custom exceptions improve code readability and maintainability\n",
    "\n",
    "\n",
    "\n",
    "\n",
    "#Custom exceptions improve code readability and maintainability by providing clear, descriptive names \n",
    "#for specific error conditions, making it easier to understand, debug, and modify code."
   ]
  },
  {
   "cell_type": "code",
   "execution_count": null,
   "id": "8bf7248e-08c2-4b81-9338-13b255caddec",
   "metadata": {},
   "outputs": [],
   "source": [
    "#What is multithreading\n",
    "\n",
    "\n",
    "#Multithreading is a programming concept where multiple threads of execution run concurrently within a single process. \n",
    "#Each thread represents a separate flow of control, allowing different parts of a program to execute independently and \n",
    "#potentially simultaneously. Multithreading enables tasks to be performed concurrently, improving overall performance and \n",
    "#responsiveness in applications, \n",
    "#especially those that involve tasks like I/O operations or parallel processing."
   ]
  },
  {
   "cell_type": "code",
   "execution_count": 21,
   "id": "ecdfb068-9747-43e6-b986-80609166d004",
   "metadata": {},
   "outputs": [
    {
     "name": "stdout",
     "output_type": "stream",
     "text": [
      "Number: 1\n",
      "Number: 2\n",
      "Number: 3\n",
      "Number: 4\n",
      "Number: 5\n",
      "Thread execution complete.\n"
     ]
    }
   ],
   "source": [
    "# Create a thread in Python\n",
    "import threading\n",
    "\n",
    "# Define a function to be executed by the thread\n",
    "def print_numbers():\n",
    "    for i in range(1, 6):\n",
    "        print(f\"Number: {i}\")\n",
    "\n",
    "# Create a thread and specify the target function\n",
    "thread = threading.Thread(target=print_numbers)\n",
    "\n",
    "# Start the thread\n",
    "thread.start()\n",
    "\n",
    "# Wait for the thread to complete (optional)\n",
    "thread.join()\n",
    "\n",
    "print(\"Thread execution complete.\")\n"
   ]
  },
  {
   "cell_type": "code",
   "execution_count": null,
   "id": "9424e227-90d2-4912-a380-ebc805e29758",
   "metadata": {},
   "outputs": [],
   "source": [
    "# What is the Global Interpreter Lock (GIL) in Python\n",
    "\n",
    "\n",
    "#The Global Interpreter Lock (GIL) in Python is a mutex that allows only one thread to execute Python bytecode at a time, \n",
    "#limiting the performance of CPU-bound multithreaded applications \n",
    "#but not affecting multiprocessing or I/O-bound tasks."
   ]
  },
  {
   "cell_type": "code",
   "execution_count": 22,
   "id": "631b8803-165a-4843-b8ac-63f5fe4ed4be",
   "metadata": {},
   "outputs": [
    {
     "name": "stdout",
     "output_type": "stream",
     "text": [
      "Number: 1\n",
      "Number: 2\n",
      "Number: 3\n",
      "Number: 4\n",
      "Number: 5\n",
      "Number: 1\n",
      "Number: 2\n",
      "Number: 3\n",
      "Number: 4\n",
      "Number: 5\n",
      "Number: 1\n",
      "Number: 2\n",
      "Number: 3\n",
      "Number: 4\n",
      "Number: 5\n",
      "All threads execution complete.\n"
     ]
    }
   ],
   "source": [
    "#Implement a simple multithreading example in Python\n",
    "import threading\n",
    "\n",
    "# Define a function to be executed by the thread\n",
    "def print_numbers():\n",
    "    for i in range(1, 6):\n",
    "        print(f\"Number: {i}\")\n",
    "\n",
    "# Create multiple threads\n",
    "threads = []\n",
    "for _ in range(3):\n",
    "    thread = threading.Thread(target=print_numbers)\n",
    "    threads.append(thread)\n",
    "\n",
    "# Start each thread\n",
    "for thread in threads:\n",
    "    thread.start()\n",
    "\n",
    "# Wait for each thread to complete\n",
    "for thread in threads:\n",
    "    thread.join()\n",
    "\n",
    "print(\"All threads execution complete.\")\n"
   ]
  },
  {
   "cell_type": "code",
   "execution_count": 23,
   "id": "7c3cd522-d554-4ab5-9931-dd42c8f421ba",
   "metadata": {},
   "outputs": [
    {
     "name": "stdout",
     "output_type": "stream",
     "text": [
      "Number: 1\n",
      "Number: 2\n",
      "Number: 3\n",
      "Number: 4\n",
      "Number: 5\n",
      "Thread execution complete.\n"
     ]
    }
   ],
   "source": [
    "#What is the purpose of the `join()` method in threading\n",
    "import threading\n",
    "import time\n",
    "\n",
    "# Define a function to be executed by the thread\n",
    "def print_numbers():\n",
    "    for i in range(1, 6):\n",
    "        print(f\"Number: {i}\")\n",
    "        time.sleep(1)\n",
    "\n",
    "# Create a thread\n",
    "thread = threading.Thread(target=print_numbers)\n",
    "\n",
    "# Start the thread\n",
    "thread.start()\n",
    "\n",
    "# Wait for the thread to complete\n",
    "thread.join()\n",
    "\n",
    "print(\"Thread execution complete.\")\n"
   ]
  },
  {
   "cell_type": "code",
   "execution_count": null,
   "id": "6757a751-d4a8-47cd-883f-f686f445d29d",
   "metadata": {},
   "outputs": [],
   "source": [
    "#Describe a scenario where multithreading would be beneficial in Python\n",
    "\n",
    "\n",
    "#Multithreading in Python is beneficial for web server applications, allowing them to handle multiple client requests concurrently. \n",
    "#This improves responsiveness, scalability, and resource utilization."
   ]
  },
  {
   "cell_type": "code",
   "execution_count": null,
   "id": "0caff4f0-2ffe-4619-b7b1-9391b3915803",
   "metadata": {},
   "outputs": [],
   "source": [
    "# What is multiprocessing in Python\n",
    "\n",
    "\n",
    "#Multiprocessing in Python allows running multiple processes concurrently, leveraging multi-core processors for parallel execution. \n",
    "#It bypasses the Global Interpreter Lock (GIL) and is ideal for CPU-bound tasks."
   ]
  },
  {
   "cell_type": "code",
   "execution_count": null,
   "id": "1ba5f46d-5c4f-454b-b867-91ff7f9fb64f",
   "metadata": {},
   "outputs": [],
   "source": [
    "# How is multiprocessing different from multithreading in Python\n",
    "\n",
    "\n",
    "#Multiprocessing runs multiple processes concurrently, each with its own memory space, ideal for CPU-bound tasks. \n",
    "#Multithreading runs multiple threads within a single process, \n",
    "#sharing memory, better suited for I/O-bound tasks."
   ]
  },
  {
   "cell_type": "code",
   "execution_count": null,
   "id": "f22bb954-669d-4ce7-aa2c-bbc86116eea7",
   "metadata": {},
   "outputs": [],
   "source": [
    "#Create a process using the multiprocessing module in Python\n",
    "\n",
    "import multiprocessing\n",
    "import os\n",
    "\n",
    "# Define a function to be executed by the process\n",
    "def worker():\n",
    "    print(f\"Process ID: {os.getpid()}\")\n",
    "\n",
    "# Create a process\n",
    "process = multiprocessing.Process(target=worker)\n",
    "\n",
    "# Start the process\n",
    "process.start()\n",
    "\n",
    "# Wait for the process to complete (optional)\n",
    "process.join()\n",
    "\n",
    "print(\"Process execution complete.\")\n"
   ]
  },
  {
   "cell_type": "code",
   "execution_count": null,
   "id": "c9d9be28-3dd5-4aa1-baed-e350689d3e9c",
   "metadata": {},
   "outputs": [],
   "source": [
    "#Explain the concept of Pool in the multiprocessing module\n",
    "import multiprocessing\n",
    "\n",
    "# Define a function to be executed in parallel\n",
    "def square(x):\n",
    "    return x ** 2\n",
    "\n",
    "if __name__ == \"__main__\":\n",
    "    # Create a Pool with 4 worker processes\n",
    "    with multiprocessing.Pool(processes=4) as pool:\n",
    "        # Apply the function to a list of input values\n",
    "        result = pool.map(square, range(10))\n",
    "\n",
    "    print(\"Result:\", result)\n"
   ]
  },
  {
   "cell_type": "code",
   "execution_count": null,
   "id": "1a084ec6-6d4c-4899-a690-9bc19f666229",
   "metadata": {},
   "outputs": [],
   "source": [
    "# Explain inter-process communication in multiprocessing.\n",
    "\n",
    "\n",
    "#Inter-process communication (IPC) in multiprocessing facilitates data exchange and \n",
    "#coordination between concurrent processes. It includes mechanisms like shared memory, pipes, queues, \n",
    "#and synchronization primitives to enable efficient communication and synchronization.\n",
    "\n",
    "\n",
    "\n",
    "\n",
    "\n",
    "\n",
    "\n"
   ]
  }
 ],
 "metadata": {
  "kernelspec": {
   "display_name": "Python 3 (ipykernel)",
   "language": "python",
   "name": "python3"
  },
  "language_info": {
   "codemirror_mode": {
    "name": "ipython",
    "version": 3
   },
   "file_extension": ".py",
   "mimetype": "text/x-python",
   "name": "python",
   "nbconvert_exporter": "python",
   "pygments_lexer": "ipython3",
   "version": "3.10.8"
  }
 },
 "nbformat": 4,
 "nbformat_minor": 5
}
